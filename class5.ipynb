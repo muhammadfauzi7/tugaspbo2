{
  "nbformat": 4,
  "nbformat_minor": 0,
  "metadata": {
    "colab": {
      "provenance": [],
      "authorship_tag": "ABX9TyOWETeJBV3Q1xwfroJFC36d",
      "include_colab_link": true
    },
    "kernelspec": {
      "name": "python3",
      "display_name": "Python 3"
    },
    "language_info": {
      "name": "python"
    }
  },
  "cells": [
    {
      "cell_type": "markdown",
      "metadata": {
        "id": "view-in-github",
        "colab_type": "text"
      },
      "source": [
        "<a href=\"https://colab.research.google.com/github/muhammadfauzi7/tugaspbo2/blob/main/class5.ipynb\" target=\"_parent\"><img src=\"https://colab.research.google.com/assets/colab-badge.svg\" alt=\"Open In Colab\"/></a>"
      ]
    },
    {
      "cell_type": "markdown",
      "source": [
        "**Class PeralatanDapur**"
      ],
      "metadata": {
        "id": "xbVqtfo99Sbs"
      }
    },
    {
      "cell_type": "code",
      "execution_count": null,
      "metadata": {
        "colab": {
          "base_uri": "https://localhost:8080/"
        },
        "id": "vL9A3csf9MQy",
        "outputId": "5a831dbc-d554-4475-eff5-7f104ffdaee0"
      },
      "outputs": [
        {
          "output_type": "stream",
          "name": "stdout",
          "text": [
            "Nama Peralatan Dapur: Blender, Kategori: Elektronik\n"
          ]
        }
      ],
      "source": [
        "class PeralatanDapur:\n",
        "    def __init__(self):\n",
        "        self.nama = \"\"\n",
        "        self.kategori = \"\"\n",
        "\n",
        "obj = PeralatanDapur()\n",
        "obj.nama = \"Blender\"\n",
        "obj.kategori = \"Elektronik\"\n",
        "print(f\"Nama Peralatan Dapur: {obj.nama}, Kategori: {obj.kategori}\")\n"
      ]
    }
  ]
}