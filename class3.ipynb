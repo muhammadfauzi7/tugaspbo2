{
  "nbformat": 4,
  "nbformat_minor": 0,
  "metadata": {
    "colab": {
      "provenance": []
    },
    "kernelspec": {
      "name": "python3",
      "display_name": "Python 3"
    },
    "language_info": {
      "name": "python"
    }
  },
  "cells": [
    {
      "cell_type": "markdown",
      "source": [
        "**Class Mobil**"
      ],
      "metadata": {
        "id": "gfrkJIP_6xvz"
      }
    },
    {
      "cell_type": "code",
      "execution_count": null,
      "metadata": {
        "colab": {
          "base_uri": "https://localhost:8080/"
        },
        "id": "HEkqmYRA6gWv",
        "outputId": "7cd910f9-db8a-4195-e04a-82ec5ddd3ac3"
      },
      "outputs": [
        {
          "output_type": "stream",
          "name": "stdout",
          "text": [
            "Merk Mobil: Toyota, Warna: Putih\n"
          ]
        }
      ],
      "source": [
        "class Mobil:\n",
        "    def __init__(self):\n",
        "        self.merk = \"\"\n",
        "        self.warna = \"\"\n",
        "\n",
        "obj = Mobil()\n",
        "obj.merk = \"Toyota\"\n",
        "obj.warna = \"Putih\"\n",
        "print(f\"Merk Mobil: {obj.merk}, Warna: {obj.warna}\")\n"
      ]
    }
  ]
}