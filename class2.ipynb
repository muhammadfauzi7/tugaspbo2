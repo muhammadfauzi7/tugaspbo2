{
  "nbformat": 4,
  "nbformat_minor": 0,
  "metadata": {
    "colab": {
      "provenance": [],
      "authorship_tag": "ABX9TyPssOEr0AwWRvoF5vCqIdpR",
      "include_colab_link": true
    },
    "kernelspec": {
      "name": "python3",
      "display_name": "Python 3"
    },
    "language_info": {
      "name": "python"
    }
  },
  "cells": [
    {
      "cell_type": "markdown",
      "metadata": {
        "id": "view-in-github",
        "colab_type": "text"
      },
      "source": [
        "<a href=\"https://colab.research.google.com/github/muhammadfauzi7/tugaspbo2/blob/main/class2.ipynb\" target=\"_parent\"><img src=\"https://colab.research.google.com/assets/colab-badge.svg\" alt=\"Open In Colab\"/></a>"
      ]
    },
    {
      "cell_type": "markdown",
      "source": [
        "**Class HewanPeliharaan**"
      ],
      "metadata": {
        "id": "RCDBCvrc7EID"
      }
    },
    {
      "cell_type": "code",
      "execution_count": null,
      "metadata": {
        "id": "b2-pQKfy69Xd",
        "outputId": "ec56b65b-15fd-4595-b0b3-7344f100621c",
        "colab": {
          "base_uri": "https://localhost:8080/"
        }
      },
      "outputs": [
        {
          "output_type": "stream",
          "name": "stdout",
          "text": [
            "Nama Hewan Peliharaan: Si Manis, Jenis: Kucing\n"
          ]
        }
      ],
      "source": [
        "class HewanPeliharaan:\n",
        "    def __init__(self):\n",
        "        self.nama = \"\"\n",
        "        self.jenis = \"\"\n",
        "\n",
        "obj = HewanPeliharaan()\n",
        "obj.nama = \"Si Manis\"\n",
        "obj.jenis = \"Kucing\"\n",
        "print(f\"Nama Hewan Peliharaan: {obj.nama}, Jenis: {obj.jenis}\")\n"
      ]
    }
  ]
}