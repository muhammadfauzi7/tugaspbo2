{
  "nbformat": 4,
  "nbformat_minor": 0,
  "metadata": {
    "colab": {
      "provenance": [],
      "authorship_tag": "ABX9TyMyzErUbiotvYfipcU0Xvrd",
      "include_colab_link": true
    },
    "kernelspec": {
      "name": "python3",
      "display_name": "Python 3"
    },
    "language_info": {
      "name": "python"
    }
  },
  "cells": [
    {
      "cell_type": "markdown",
      "metadata": {
        "id": "view-in-github",
        "colab_type": "text"
      },
      "source": [
        "<a href=\"https://colab.research.google.com/github/muhammadfauzi7/tugaspbo2/blob/main/class1.ipynb\" target=\"_parent\"><img src=\"https://colab.research.google.com/assets/colab-badge.svg\" alt=\"Open In Colab\"/></a>"
      ]
    },
    {
      "cell_type": "markdown",
      "source": [
        "**Class Buku**"
      ],
      "metadata": {
        "id": "h3jW38oW480g"
      }
    },
    {
      "cell_type": "code",
      "execution_count": null,
      "metadata": {
        "colab": {
          "base_uri": "https://localhost:8080/"
        },
        "id": "ZHm2NSJ_2KYa",
        "outputId": "606b11a5-d508-4e82-9c73-e4666b462148"
      },
      "outputs": [
        {
          "output_type": "stream",
          "name": "stdout",
          "text": [
            "Judul Buku: Laskar Pelangi, Penulis: Andrea Hirata\n"
          ]
        }
      ],
      "source": [
        "class Buku:\n",
        "    def __init__(self):\n",
        "        self.judul = \"\"\n",
        "        self.penulis = \"\"\n",
        "\n",
        "obj = Buku()\n",
        "obj.judul = \"Laskar Pelangi\"\n",
        "obj.penulis = \"Andrea Hirata\"\n",
        "print(f\"Judul Buku: {obj.judul}, Penulis: {obj.penulis}\")\n"
      ]
    }
  ]
}