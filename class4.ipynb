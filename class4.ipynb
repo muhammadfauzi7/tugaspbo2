{
  "nbformat": 4,
  "nbformat_minor": 0,
  "metadata": {
    "colab": {
      "provenance": [],
      "authorship_tag": "ABX9TyNcpez0JD3eDJyOIR1HlDqF",
      "include_colab_link": true
    },
    "kernelspec": {
      "name": "python3",
      "display_name": "Python 3"
    },
    "language_info": {
      "name": "python"
    }
  },
  "cells": [
    {
      "cell_type": "markdown",
      "metadata": {
        "id": "view-in-github",
        "colab_type": "text"
      },
      "source": [
        "<a href=\"https://colab.research.google.com/github/muhammadfauzi7/tugaspbo2/blob/main/class4.ipynb\" target=\"_parent\"><img src=\"https://colab.research.google.com/assets/colab-badge.svg\" alt=\"Open In Colab\"/></a>"
      ]
    },
    {
      "cell_type": "markdown",
      "source": [
        "**Class Pakaian**"
      ],
      "metadata": {
        "id": "x5ilRYNQ7XMC"
      }
    },
    {
      "cell_type": "code",
      "execution_count": null,
      "metadata": {
        "colab": {
          "base_uri": "https://localhost:8080/"
        },
        "id": "52DaY5Gv7T45",
        "outputId": "51eb8708-2e57-4ee1-bff6-5d98b0e6fe49"
      },
      "outputs": [
        {
          "output_type": "stream",
          "name": "stdout",
          "text": [
            "Tipe Pakaian: Kaos, Ukuran: L\n"
          ]
        }
      ],
      "source": [
        "class Pakaian:\n",
        "    def __init__(self):\n",
        "        self.tipe = \"\"\n",
        "        self.ukuran = \"\"\n",
        "\n",
        "obj = Pakaian()\n",
        "obj.tipe = \"Kaos\"\n",
        "obj.ukuran = \"L\"\n",
        "print(f\"Tipe Pakaian: {obj.tipe}, Ukuran: {obj.ukuran}\")\n"
      ]
    }
  ]
}